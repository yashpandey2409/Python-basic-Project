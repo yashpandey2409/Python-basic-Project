{
 "cells": [
  {
   "cell_type": "code",
   "execution_count": 2,
   "metadata": {},
   "outputs": [],
   "source": [
    "#  how to use the popular GPT-2 text generation model to generate text using Python.\n",
    "\n",
    "from transformers import pipeline\n",
    "\n",
    "model = pipeline(\"text-generation\", model=\"gpt2\")\n",
    "\n",
    "input_text = \"Hi, My name is John Cena, I am here\"\n",
    "\n"
   ]
  },
  {
   "cell_type": "code",
   "execution_count": 3,
   "metadata": {},
   "outputs": [
    {
     "name": "stderr",
     "output_type": "stream",
     "text": [
      "Truncation was not explicitly activated but `max_length` is provided a specific value, please use `truncation=True` to explicitly truncate examples to max length. Defaulting to 'longest_first' truncation strategy. If you encode pairs of sequences (GLUE-style) with the tokenizer you can select this strategy more precisely by providing a specific strategy to `truncation`.\n"
     ]
    },
    {
     "name": "stderr",
     "output_type": "stream",
     "text": [
      "Setting `pad_token_id` to `eos_token_id`:50256 for open-end generation.\n",
      "Setting `pad_token_id` to `eos_token_id`:50256 for open-end generation.\n"
     ]
    },
    {
     "name": "stdout",
     "output_type": "stream",
     "text": [
      "Hi, My name is John Cena, I am here today at the The Rated R R1 Wrestlemania. I am going to be taking you out of this ring and trying to see where you would go and if you would be prepared if you lived, grew, or died. I want you to grow up, live, and have a good life. I want you to be a wrestling superstar. I want you to be a champion. I want you to go win. I want you to be\n",
      "Hi, My name is John Cena, I am here to show you my wrestling skills by talking about my main matches with IAMW in Austin. Please take a moment in my heart to thank you for listening to my wrestling.\n",
      "\n",
      "IAMW is a WWE wrestling promotion in Texas. I am the Executive Director of IAMW and also I am a member of my family. It is a family. You know there will be many fans out there to listen to this. They will think\n"
     ]
    }
   ],
   "source": [
    "# Generate multiple texts by calling the pipeline multiple times\n",
    "num_texts = 2  # Number of texts to generate\n",
    "generated_texts = []\n",
    "for _ in range(num_texts):\n",
    "    text = model(input_text,\n",
    "                 do_sample=True,\n",
    "                 top_k=50,\n",
    "                 temperature=0.9,\n",
    "                 max_length=100)\n",
    "    generated_texts.append(text[0][\"generated_text\"])\n",
    "\n",
    "# Print generated texts\n",
    "for text in generated_texts:\n",
    "    print(text)"
   ]
  }
 ],
 "metadata": {
  "kernelspec": {
   "display_name": "Python 3",
   "language": "python",
   "name": "python3"
  },
  "language_info": {
   "codemirror_mode": {
    "name": "ipython",
    "version": 3
   },
   "file_extension": ".py",
   "mimetype": "text/x-python",
   "name": "python",
   "nbconvert_exporter": "python",
   "pygments_lexer": "ipython3",
   "version": "3.12.2"
  }
 },
 "nbformat": 4,
 "nbformat_minor": 2
}
